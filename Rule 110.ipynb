{
 "cells": [
  {
   "cell_type": "code",
   "execution_count": 303,
   "metadata": {},
   "outputs": [],
   "source": [
    "import numpy as np\n",
    "import math"
   ]
  },
  {
   "cell_type": "code",
   "execution_count": 320,
   "metadata": {},
   "outputs": [],
   "source": [
    "N = 20\n"
   ]
  },
  {
   "cell_type": "code",
   "execution_count": 330,
   "metadata": {},
   "outputs": [],
   "source": [
    "# a = [[\" \" for x in range (N)]  for x in range(N)]\n",
    "# b = np.zeros((N,N))\n",
    "# c = np.random.choice([0, 1], size=N, p=[.1, .9])\n",
    "# d = np.random.rand(N,N).astype(int)\n",
    "s=111\n",
    "\n",
    "# r_100 = np.zeros(N)\n",
    "# r_100[N-3]=s\n",
    "# r = np.chararray(N,unicode=True)\n",
    "# r[:] = '.'\n",
    "# r[N-3] = 'x'"
   ]
  },
  {
   "cell_type": "code",
   "execution_count": 331,
   "metadata": {},
   "outputs": [],
   "source": [
    "\n",
    "# a=np.chararray((N,N),unicode=True)\n",
    "# a[:] = alp\n",
    "a = np.zeros((N,N))\n",
    "a[0,N-2] = s\n",
    "# print(a)"
   ]
  },
  {
   "cell_type": "code",
   "execution_count": 332,
   "metadata": {},
   "outputs": [],
   "source": [
    "def RULE_110():\n",
    "  \n",
    "    \n",
    "    for i in range(1,N-1):\n",
    "\n",
    "        for j in range(1,N-1):\n",
    "#              if a[i-1,j-1] =='.' and a[i-1,j]=='.' and a[i-1,j+1]=='.':\n",
    "#                     a[i,j] = '.'\n",
    "#                 if a[i-1,j-1] =='.' and a[i-1,j]=='.' and a[i-1,j+1]==s:\n",
    "#                     a[i,j] = s\n",
    "#                 if a[i-1,j-1] =='.' and a[i-1,j]==s and a[i-1,j+1]=='.':\n",
    "#                     a[i,j] = s\n",
    "#                 if a[i-1,j-1] =='.' and a[i-1,j]==s and a[i-1,j+1]==s:\n",
    "#                     a[i,j] = s\n",
    "#                 if a[i-1,j-1] ==s and a[i-1,j]=='.' and a[i-1,j+1]=='.':\n",
    "#                     a[i,j] = '.'\n",
    "#                 if a[i-1,j-1] ==s and a[i-1,j]=='.' and a[i-1,j+1]==s:\n",
    "#                     a[i,j] = s\n",
    "#                 if a[i-1,j-1] ==s and a[i-1,j]==s and a[i-1,j+1]=='.':\n",
    "#                     a[i,j] = s\n",
    "#                 if a[i-1,j-1] ==s and a[i-1,j]==s and a[i-1,j+1]==s:\n",
    "#                     a[i,j] = '.'\n",
    "\n",
    "\n",
    "            \n",
    "                \n",
    "                if a[i-1,j-1] ==0 and a[i-1,j]==0 and a[i-1,j+1]==0:\n",
    "                    a[i,j] = 0\n",
    "                if a[i-1,j-1] ==0 and a[i-1,j]==0 and a[i-1,j+1]==s:\n",
    "                    a[i,j] = s\n",
    "                if a[i-1,j-1] ==0 and a[i-1,j]==s and a[i-1,j+1]==0:\n",
    "                    a[i,j] = s\n",
    "                if a[i-1,j-1] ==0 and a[i-1,j]==s and a[i-1,j+1]==s:\n",
    "                    a[i,j] = s\n",
    "                if a[i-1,j-1] ==s and a[i-1,j]==0 and a[i-1,j+1]==0:\n",
    "                    a[i,j] = 0\n",
    "                if a[i-1,j-1] ==s and a[i-1,j]==0 and a[i-1,j+1]==s:\n",
    "                    a[i,j] = s\n",
    "                if a[i-1,j-1] ==s and a[i-1,j]==s and a[i-1,j+1]==0:\n",
    "                    a[i,j] = s\n",
    "                if a[i-1,j-1] ==s and a[i-1,j]==s and a[i-1,j+1]==s:\n",
    "                    a[i,j] = 0\n",
    "\n",
    "\n",
    "                        \n",
    "                \n",
    "           \n",
    "                \n",
    "       \n",
    "        \n",
    "            \n",
    "    return a\n",
    "                    \n",
    "            "
   ]
  },
  {
   "cell_type": "code",
   "execution_count": 333,
   "metadata": {},
   "outputs": [
    {
     "name": "stdout",
     "output_type": "stream",
     "text": [
      "0.0 0.0 0.0 0.0 0.0 0.0 0.0 0.0 0.0 0.0 0.0 0.0 0.0 0.0 0.0 0.0 0.0 0.0 111.0 0.0\n",
      "0.0 0.0 0.0 0.0 0.0 0.0 0.0 0.0 0.0 0.0 0.0 0.0 0.0 0.0 0.0 0.0 0.0 111.0 111.0 0.0\n",
      "0.0 0.0 0.0 0.0 0.0 0.0 0.0 0.0 0.0 0.0 0.0 0.0 0.0 0.0 0.0 0.0 111.0 111.0 111.0 0.0\n",
      "0.0 0.0 0.0 0.0 0.0 0.0 0.0 0.0 0.0 0.0 0.0 0.0 0.0 0.0 0.0 111.0 111.0 0.0 111.0 0.0\n",
      "0.0 0.0 0.0 0.0 0.0 0.0 0.0 0.0 0.0 0.0 0.0 0.0 0.0 0.0 111.0 111.0 111.0 111.0 111.0 0.0\n",
      "0.0 0.0 0.0 0.0 0.0 0.0 0.0 0.0 0.0 0.0 0.0 0.0 0.0 111.0 111.0 0.0 0.0 0.0 111.0 0.0\n",
      "0.0 0.0 0.0 0.0 0.0 0.0 0.0 0.0 0.0 0.0 0.0 0.0 111.0 111.0 111.0 0.0 0.0 111.0 111.0 0.0\n",
      "0.0 0.0 0.0 0.0 0.0 0.0 0.0 0.0 0.0 0.0 0.0 111.0 111.0 0.0 111.0 0.0 111.0 111.0 111.0 0.0\n",
      "0.0 0.0 0.0 0.0 0.0 0.0 0.0 0.0 0.0 0.0 111.0 111.0 111.0 111.0 111.0 111.0 111.0 0.0 111.0 0.0\n",
      "0.0 0.0 0.0 0.0 0.0 0.0 0.0 0.0 0.0 111.0 111.0 0.0 0.0 0.0 0.0 0.0 111.0 111.0 111.0 0.0\n",
      "0.0 0.0 0.0 0.0 0.0 0.0 0.0 0.0 111.0 111.0 111.0 0.0 0.0 0.0 0.0 111.0 111.0 0.0 111.0 0.0\n",
      "0.0 0.0 0.0 0.0 0.0 0.0 0.0 111.0 111.0 0.0 111.0 0.0 0.0 0.0 111.0 111.0 111.0 111.0 111.0 0.0\n",
      "0.0 0.0 0.0 0.0 0.0 0.0 111.0 111.0 111.0 111.0 111.0 0.0 0.0 111.0 111.0 0.0 0.0 0.0 111.0 0.0\n",
      "0.0 0.0 0.0 0.0 0.0 111.0 111.0 0.0 0.0 0.0 111.0 0.0 111.0 111.0 111.0 0.0 0.0 111.0 111.0 0.0\n",
      "0.0 0.0 0.0 0.0 111.0 111.0 111.0 0.0 0.0 111.0 111.0 111.0 111.0 0.0 111.0 0.0 111.0 111.0 111.0 0.0\n",
      "0.0 0.0 0.0 111.0 111.0 0.0 111.0 0.0 111.0 111.0 0.0 0.0 111.0 111.0 111.0 111.0 111.0 0.0 111.0 0.0\n",
      "0.0 0.0 111.0 111.0 111.0 111.0 111.0 111.0 111.0 111.0 0.0 111.0 111.0 0.0 0.0 0.0 111.0 111.0 111.0 0.0\n",
      "0.0 111.0 111.0 0.0 0.0 0.0 0.0 0.0 0.0 111.0 111.0 111.0 111.0 0.0 0.0 111.0 111.0 0.0 111.0 0.0\n",
      "0.0 111.0 111.0 0.0 0.0 0.0 0.0 0.0 111.0 111.0 0.0 0.0 111.0 0.0 111.0 111.0 111.0 111.0 111.0 0.0\n",
      "0.0 0.0 0.0 0.0 0.0 0.0 0.0 0.0 0.0 0.0 0.0 0.0 0.0 0.0 0.0 0.0 0.0 0.0 0.0 0.0\n"
     ]
    }
   ],
   "source": [
    "b= RULE_110()\n",
    "for i in range(N):\n",
    "    for j in range(N):\n",
    "        b[i,j] = int(b[i,j])\n",
    "# print(b)\n",
    "for line in b:\n",
    "    print(*line)"
   ]
  },
  {
   "cell_type": "code",
   "execution_count": null,
   "metadata": {},
   "outputs": [],
   "source": []
  }
 ],
 "metadata": {
  "kernelspec": {
   "display_name": "Python 3",
   "language": "python",
   "name": "python3"
  },
  "language_info": {
   "codemirror_mode": {
    "name": "ipython",
    "version": 3
   },
   "file_extension": ".py",
   "mimetype": "text/x-python",
   "name": "python",
   "nbconvert_exporter": "python",
   "pygments_lexer": "ipython3",
   "version": "3.7.4"
  }
 },
 "nbformat": 4,
 "nbformat_minor": 2
}
