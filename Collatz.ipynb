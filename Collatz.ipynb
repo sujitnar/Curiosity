{
 "cells": [
  {
   "cell_type": "code",
   "execution_count": 24,
   "metadata": {
    "scrolled": true
   },
   "outputs": [
    {
     "name": "stdout",
     "output_type": "stream",
     "text": [
      "83 9232.0\n"
     ]
    }
   ],
   "source": [
    "import math\n",
    "import cmath\n",
    "import numpy as np\n",
    "import matplotlib\n",
    "from matplotlib import pyplot as plt\n",
    "import pandas as pd \n",
    "\n",
    "N =100000\n",
    "\n",
    "\n",
    "          \n",
    "\n",
    "\n",
    "sequence = [0]*N\n",
    "\n",
    "\n",
    "counterarray = [0]*(N-2)\n",
    "num = np.zeros(N-2)\n",
    "maximum = np.zeros(N-2)\n",
    "for i in range(2,N):\n",
    "    num[i-2] = i\n",
    "\n",
    "\n",
    "\n",
    "def collatz_function(N):\n",
    "    for n in range(2,N):\n",
    "        count =1\n",
    "        s=n\n",
    "        while count < N:\n",
    "            if s%2 == 0:\n",
    "                sequence[count] = s/2\n",
    "                count +=1\n",
    "                s = s/2\n",
    "            else:\n",
    "\n",
    "                sequence[count] = (3*s+1)\n",
    "                count +=1\n",
    "                s = (3*s+1)\n",
    "            if s ==1:\n",
    "                counter = count\n",
    "                break\n",
    "        counterarray[n-2] = counter\n",
    "        maximum[n-2] = np.max(sequence)\n",
    "    return counterarray, maximum\n",
    "\n",
    "\n",
    "maxiter , max_val  = collatz_function(N)\n",
    "# with open('filename.txt', 'w') as f:\n",
    "#   f.write('%d' % num)\n",
    "\n",
    "print(maxiter[700], max_val[700])\n",
    "d = {'x': max_val, 'y': num}\n",
    "collatz_data = pd.DataFrame(data=d)\n",
    "np.savetxt(r'C:\\Users\\sujit\\Electromagnetic-Response-tensor-graphene\\collatz.txt', collatz_data.values, fmt='%d')\n",
    "\n",
    "    #plt.scatter(numa[i],a[i])\n",
    "\n",
    "#\n",
    "#print(collatz_function(), n)\n",
    "# plt.figure(figsize=(10, 10))\n",
    "# plt.scatter(num,max_val)\n",
    "# plt.grid()\n",
    "# plt.show()\n",
    "\n"
   ]
  },
  {
   "cell_type": "code",
   "execution_count": null,
   "metadata": {},
   "outputs": [],
   "source": []
  }
 ],
 "metadata": {
  "kernelspec": {
   "display_name": "Python 3",
   "language": "python",
   "name": "python3"
  },
  "language_info": {
   "codemirror_mode": {
    "name": "ipython",
    "version": 3
   },
   "file_extension": ".py",
   "mimetype": "text/x-python",
   "name": "python",
   "nbconvert_exporter": "python",
   "pygments_lexer": "ipython3",
   "version": "3.7.4"
  }
 },
 "nbformat": 4,
 "nbformat_minor": 2
}
